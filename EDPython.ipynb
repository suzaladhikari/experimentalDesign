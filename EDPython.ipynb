{
 "cells": [
  {
   "cell_type": "code",
   "execution_count": 2,
   "metadata": {},
   "outputs": [],
   "source": [
    "import pandas as pd \n",
    "import numpy as np\n",
    "import seaborn as sns\n",
    "import matplotlib.pyplot as plt \n",
    "from scipy.stats import shapiro\n",
    "from statsmodels.graphics.gofplots import qqplot \n",
    "from scipy.stats import anderson\n",
    "from scipy.stats import f_oneway"
   ]
  },
  {
   "cell_type": "code",
   "execution_count": 3,
   "metadata": {},
   "outputs": [
    {
     "data": {
      "text/html": [
       "<div>\n",
       "<style scoped>\n",
       "    .dataframe tbody tr th:only-of-type {\n",
       "        vertical-align: middle;\n",
       "    }\n",
       "\n",
       "    .dataframe tbody tr th {\n",
       "        vertical-align: top;\n",
       "    }\n",
       "\n",
       "    .dataframe thead th {\n",
       "        text-align: right;\n",
       "    }\n",
       "</style>\n",
       "<table border=\"1\" class=\"dataframe\">\n",
       "  <thead>\n",
       "    <tr style=\"text-align: right;\">\n",
       "      <th></th>\n",
       "      <th>student_id</th>\n",
       "      <th>age</th>\n",
       "      <th>gender</th>\n",
       "      <th>study_hours_per_day</th>\n",
       "      <th>social_media_hours</th>\n",
       "      <th>netflix_hours</th>\n",
       "      <th>part_time_job</th>\n",
       "      <th>attendance_percentage</th>\n",
       "      <th>sleep_hours</th>\n",
       "      <th>diet_quality</th>\n",
       "      <th>exercise_frequency</th>\n",
       "      <th>parental_education_level</th>\n",
       "      <th>internet_quality</th>\n",
       "      <th>mental_health_rating</th>\n",
       "      <th>extracurricular_participation</th>\n",
       "      <th>exam_score</th>\n",
       "    </tr>\n",
       "  </thead>\n",
       "  <tbody>\n",
       "    <tr>\n",
       "      <th>0</th>\n",
       "      <td>S1000</td>\n",
       "      <td>23</td>\n",
       "      <td>Female</td>\n",
       "      <td>0.0</td>\n",
       "      <td>1.2</td>\n",
       "      <td>1.1</td>\n",
       "      <td>No</td>\n",
       "      <td>85.0</td>\n",
       "      <td>8.0</td>\n",
       "      <td>Fair</td>\n",
       "      <td>6</td>\n",
       "      <td>Master</td>\n",
       "      <td>Average</td>\n",
       "      <td>8</td>\n",
       "      <td>Yes</td>\n",
       "      <td>56.2</td>\n",
       "    </tr>\n",
       "    <tr>\n",
       "      <th>1</th>\n",
       "      <td>S1001</td>\n",
       "      <td>20</td>\n",
       "      <td>Female</td>\n",
       "      <td>6.9</td>\n",
       "      <td>2.8</td>\n",
       "      <td>2.3</td>\n",
       "      <td>No</td>\n",
       "      <td>97.3</td>\n",
       "      <td>4.6</td>\n",
       "      <td>Good</td>\n",
       "      <td>6</td>\n",
       "      <td>High School</td>\n",
       "      <td>Average</td>\n",
       "      <td>8</td>\n",
       "      <td>No</td>\n",
       "      <td>100.0</td>\n",
       "    </tr>\n",
       "    <tr>\n",
       "      <th>2</th>\n",
       "      <td>S1002</td>\n",
       "      <td>21</td>\n",
       "      <td>Male</td>\n",
       "      <td>1.4</td>\n",
       "      <td>3.1</td>\n",
       "      <td>1.3</td>\n",
       "      <td>No</td>\n",
       "      <td>94.8</td>\n",
       "      <td>8.0</td>\n",
       "      <td>Poor</td>\n",
       "      <td>1</td>\n",
       "      <td>High School</td>\n",
       "      <td>Poor</td>\n",
       "      <td>1</td>\n",
       "      <td>No</td>\n",
       "      <td>34.3</td>\n",
       "    </tr>\n",
       "    <tr>\n",
       "      <th>3</th>\n",
       "      <td>S1003</td>\n",
       "      <td>23</td>\n",
       "      <td>Female</td>\n",
       "      <td>1.0</td>\n",
       "      <td>3.9</td>\n",
       "      <td>1.0</td>\n",
       "      <td>No</td>\n",
       "      <td>71.0</td>\n",
       "      <td>9.2</td>\n",
       "      <td>Poor</td>\n",
       "      <td>4</td>\n",
       "      <td>Master</td>\n",
       "      <td>Good</td>\n",
       "      <td>1</td>\n",
       "      <td>Yes</td>\n",
       "      <td>26.8</td>\n",
       "    </tr>\n",
       "    <tr>\n",
       "      <th>4</th>\n",
       "      <td>S1004</td>\n",
       "      <td>19</td>\n",
       "      <td>Female</td>\n",
       "      <td>5.0</td>\n",
       "      <td>4.4</td>\n",
       "      <td>0.5</td>\n",
       "      <td>No</td>\n",
       "      <td>90.9</td>\n",
       "      <td>4.9</td>\n",
       "      <td>Fair</td>\n",
       "      <td>3</td>\n",
       "      <td>Master</td>\n",
       "      <td>Good</td>\n",
       "      <td>1</td>\n",
       "      <td>No</td>\n",
       "      <td>66.4</td>\n",
       "    </tr>\n",
       "  </tbody>\n",
       "</table>\n",
       "</div>"
      ],
      "text/plain": [
       "  student_id  age  gender  study_hours_per_day  social_media_hours  \\\n",
       "0      S1000   23  Female                  0.0                 1.2   \n",
       "1      S1001   20  Female                  6.9                 2.8   \n",
       "2      S1002   21    Male                  1.4                 3.1   \n",
       "3      S1003   23  Female                  1.0                 3.9   \n",
       "4      S1004   19  Female                  5.0                 4.4   \n",
       "\n",
       "   netflix_hours part_time_job  attendance_percentage  sleep_hours  \\\n",
       "0            1.1            No                   85.0          8.0   \n",
       "1            2.3            No                   97.3          4.6   \n",
       "2            1.3            No                   94.8          8.0   \n",
       "3            1.0            No                   71.0          9.2   \n",
       "4            0.5            No                   90.9          4.9   \n",
       "\n",
       "  diet_quality  exercise_frequency parental_education_level internet_quality  \\\n",
       "0         Fair                   6                   Master          Average   \n",
       "1         Good                   6              High School          Average   \n",
       "2         Poor                   1              High School             Poor   \n",
       "3         Poor                   4                   Master             Good   \n",
       "4         Fair                   3                   Master             Good   \n",
       "\n",
       "   mental_health_rating extracurricular_participation  exam_score  \n",
       "0                     8                           Yes        56.2  \n",
       "1                     8                            No       100.0  \n",
       "2                     1                            No        34.3  \n",
       "3                     1                           Yes        26.8  \n",
       "4                     1                            No        66.4  "
      ]
     },
     "execution_count": 3,
     "metadata": {},
     "output_type": "execute_result"
    }
   ],
   "source": [
    "data = pd.read_csv('student_habits_performance.csv')\n",
    "data.head(5)"
   ]
  },
  {
   "cell_type": "markdown",
   "metadata": {},
   "source": [
    "---"
   ]
  },
  {
   "cell_type": "markdown",
   "metadata": {},
   "source": [
    "### What is the Experimental Design in Python \n",
    "### Experimental design is all about analyzing the data without the biasness to create the perfect and reasonable results.\n"
   ]
  },
  {
   "cell_type": "markdown",
   "metadata": {},
   "source": [
    "---"
   ]
  },
  {
   "cell_type": "markdown",
   "metadata": {},
   "source": [
    "### Straifiying an experiment \n"
   ]
  },
  {
   "cell_type": "markdown",
   "metadata": {},
   "source": [
    "### Straifying an experiment is all about seperating an experiment in blocks in order to get unbiased results. In this method we dont sample randomly, but, first we group the parameters and then sample them. Lets take an example of extracurricular_participation column and evaluate the results."
   ]
  },
  {
   "cell_type": "code",
   "execution_count": 4,
   "metadata": {},
   "outputs": [
    {
     "name": "stdout",
     "output_type": "stream",
     "text": [
      "Block  T_C  extracurricular_participation\n",
      "1      C    Yes                              159\n",
      "       T    Yes                              159\n",
      "2      C    No                               341\n",
      "       T    No                               341\n",
      "dtype: int64\n"
     ]
    }
   ],
   "source": [
    "participated = data[data['extracurricular_participation'] == 'Yes'].copy()\n",
    "notParticipated = data[data['extracurricular_participation'] == 'No'].copy()\n",
    "##Now we sample in each of the data; Participated and Not Participated \n",
    "\n",
    "participated['Block'] = 1\n",
    "##Now we divide the participated column to the treatment and controlled group \n",
    "participatedTreatment = participated.sample(frac = 0.5, replace = False)\n",
    "participatedTreatment['T_C'] = 'T'\n",
    "participatedControlled = participated.drop(participatedTreatment.index)\n",
    "participatedControlled['T_C'] = 'C'\n",
    "\n",
    "##We have now seperated the whole dataset into participated and not participated and from that we have randomly sampled out the equal number of the treatment and controlled group \n",
    "\n",
    "notParticipated['Block'] = 2\n",
    "notParticipatedTreatment = notParticipated.sample(frac = 0.5, replace = False)\n",
    "notParticipatedTreatment['T_C'] = 'T'\n",
    "notParticipatedControlled = notParticipated.drop(notParticipatedTreatment.index)\n",
    "notParticipatedControlled['T_C'] = 'C'\n",
    "\n",
    "###Concating the whole dataset we get \n",
    "stratifiedData = pd.concat([participatedTreatment,participatedControlled,notParticipatedTreatment,notParticipatedControlled])\n",
    "print(stratifiedData.groupby(['Block','T_C','extracurricular_participation']).size())"
   ]
  },
  {
   "cell_type": "markdown",
   "metadata": {},
   "source": [
    "### Using the stratified experiment we can now seperate the whole dataset into the chunks by avoiding the biasness.\n",
    "### We have equal number of applicants and also we do have the different controlled group and treatment group we can perform on !"
   ]
  },
  {
   "cell_type": "markdown",
   "metadata": {},
   "source": [
    "---"
   ]
  },
  {
   "cell_type": "markdown",
   "metadata": {},
   "source": [
    "### Normality of the column \n",
    "### Normality of the column is one of the most important aspect to check before performing any machine learning or hypothesis testing process. Normality of the column changes the whole game. Let's take an example of hypothesis testing we use normality to figure out which test to use. There are two types of tests (Parametric and Non-Parametric Testing), which is distinguished by the normality "
   ]
  },
  {
   "cell_type": "markdown",
   "metadata": {},
   "source": [
    "---"
   ]
  },
  {
   "cell_type": "markdown",
   "metadata": {},
   "source": [
    "### Steps to check the normality of the data!\n",
    "### 1. KDE Plot (Kernel Density Plot)"
   ]
  },
  {
   "cell_type": "code",
   "execution_count": 5,
   "metadata": {},
   "outputs": [
    {
     "data": {
      "image/png": "[encoded data removed]",
      "text/plain": [
       "<Figure size 500x500 with 1 Axes>"
      ]
     },
     "metadata": {},
     "output_type": "display_data"
    }
   ],
   "source": [
    "sns.displot(data = data, x= 'social_media_hours', kind = 'kde', fill = True)\n",
    "##This can be done using // sns.kdeplot(data = data, x = 'social_media_hours', fill = True)\n",
    "plt.ylim(0,0.5)\n",
    "plt.show()"
   ]
  },
  {
   "cell_type": "markdown",
   "metadata": {},
   "source": [
    "### Since there is visual confusion whether to decide it is normal or not we use the other test named "
   ]
  },
  {
   "cell_type": "markdown",
   "metadata": {},
   "source": [
    "---"
   ]
  },
  {
   "cell_type": "markdown",
   "metadata": {},
   "source": [
    "### 2. Shapiro test (Shapiro wilk test)\n",
    "### This test gives the p value and if the pValue is >= 0.05 it is normally distributed else it is not normally distributed\n",
    "### Library to import: shapiro from scipy.stats"
   ]
  },
  {
   "cell_type": "code",
   "execution_count": 6,
   "metadata": {},
   "outputs": [
    {
     "name": "stdout",
     "output_type": "stream",
     "text": [
      "0.000727508869674786\n"
     ]
    }
   ],
   "source": [
    "stats, pValue = shapiro(data['social_media_hours'])\n",
    "print(pValue) ## pvalue <= 0.05 which means it is not normal "
   ]
  },
  {
   "cell_type": "markdown",
   "metadata": {},
   "source": [
    "---"
   ]
  },
  {
   "cell_type": "markdown",
   "metadata": {},
   "source": [
    "### QQ plot (Quantile - Quantile Plot )\n",
    "### The QQ plot is a graphical tool to compare the distribution of your data vs theoritical distribution (which is usually normal)\n",
    "### Libraries to import from statsmodels.graphics.gofplots import qqplot"
   ]
  },
  {
   "cell_type": "code",
   "execution_count": 7,
   "metadata": {},
   "outputs": [
    {
     "data": {
      "image/png": "[encoded data removed]",
      "text/plain": [
       "<Figure size 640x480 with 1 Axes>"
      ]
     },
     "metadata": {},
     "output_type": "display_data"
    }
   ],
   "source": [
    "qqplot(data['sleep_hours'], line = 's') ##line = 's' means the standarized line\n",
    "plt.show()\n"
   ]
  },
  {
   "cell_type": "markdown",
   "metadata": {},
   "source": [
    "### Since most of the dots are aligned to the theoritical line or the normally distributed line we can hence conclude the sleep_hours column is normally distributed !"
   ]
  },
  {
   "cell_type": "markdown",
   "metadata": {},
   "source": [
    "---"
   ]
  },
  {
   "cell_type": "markdown",
   "metadata": {},
   "source": [
    "### Anderson- Darling Test \n",
    "### Anderson -Darling test is one of the detailed version of the shapiro walk test. It is usually done if you have a larger dataset and if you need more precise value. To conclude, it is also the test to distinguish normality but in more detailed and standarized way!\n",
    "### Libraries to use : from scipy.stats import anderson "
   ]
  },
  {
   "cell_type": "code",
   "execution_count": 8,
   "metadata": {},
   "outputs": [
    {
     "name": "stdout",
     "output_type": "stream",
     "text": [
      "Test statistic: 0.7138\n",
      "Significance Levels: [15.  10.   5.   2.5  1. ]\n",
      "Critical Values: [0.574 0.653 0.784 0.914 1.088]\n"
     ]
    }
   ],
   "source": [
    "result = anderson(data['social_media_hours'], dist = 'norm')\n",
    "print(f\"Test statistic: {round(result.statistic, 4)}\")\n",
    "print(f\"Significance Levels: {result.significance_level}\")\n",
    "print(f\"Critical Values: {result.critical_values}\")"
   ]
  },
  {
   "cell_type": "markdown",
   "metadata": {},
   "source": [
    "### How to interpret the result of the Anderson-Darling Test\n",
    "### Usually the test statistic can be taken as the (pValue) whereas teh critical values can be taken as the significance value at certain significane level. In significance level teh 15 is the 15% level and 10 is the 10% level. Most commonly the significance level is set for 5% to 1% of the data. In this contxt 5% to 1% has three values [.784,.914,1.088] which are all greater than the pValue or the test statistic i.e. 0.7138. So we can prove that our data is normal !"
   ]
  },
  {
   "cell_type": "markdown",
   "metadata": {},
   "source": [
    "---"
   ]
  },
  {
   "cell_type": "markdown",
   "metadata": {},
   "source": [
    "### Blocking in Experimental Design \n",
    "### Blocking refers to the grouping in the experimental design to avoid the influence of the variablitiy. It is done using oneway ANOVA testing \n",
    "### Libraries used: from scipy.stats import f_oneway"
   ]
  },
  {
   "cell_type": "code",
   "execution_count": 9,
   "metadata": {},
   "outputs": [
    {
     "name": "stdout",
     "output_type": "stream",
     "text": [
      "internet_quality\n",
      "Average     (2.5932843092007647, 0.0760697612999077)\n",
      "Good       (0.09640777375602799, 0.9081126480482682)\n",
      "Poor        (0.5415398029624701, 0.5829209461667928)\n",
      "dtype: object\n"
     ]
    },
    {
     "name": "stderr",
     "output_type": "stream",
     "text": [
      "/var/folders/bt/9_3kc80d4jq8sv8fv_c7d_fr0000gn/T/ipykernel_90714/1286184476.py:2: DeprecationWarning: DataFrameGroupBy.apply operated on the grouping columns. This behavior is deprecated, and in a future version of pandas the grouping columns will be excluded from the operation. Either pass `include_groups=False` to exclude the groupings or explicitly select the grouping columns after groupby to silence this warning.\n",
      "  internetFrequency = data.groupby('internet_quality').apply(\n",
      "/var/folders/bt/9_3kc80d4jq8sv8fv_c7d_fr0000gn/T/ipykernel_90714/1286184476.py:8: DeprecationWarning: DataFrameGroupBy.apply operated on the grouping columns. This behavior is deprecated, and in a future version of pandas the grouping columns will be excluded from the operation. Either pass `include_groups=False` to exclude the groupings or explicitly select the grouping columns after groupby to silence this warning.\n",
      "  internetFrequencyAnova = internetFrequency.groupby('internet_quality').apply(\n"
     ]
    }
   ],
   "source": [
    "### Lets see how does diet quality affect as per the exercise frequency \n",
    "internetFrequency = data.groupby('internet_quality').apply(\n",
    "    lambda x: x.sample(frac = 1)\n",
    ")\n",
    "\n",
    "internetFrequency = internetFrequency.reset_index(drop = True)\n",
    "\n",
    "internetFrequencyAnova = internetFrequency.groupby('internet_quality').apply(\n",
    "    lambda x: f_oneway(\n",
    "        x[x['diet_quality']== 'Fair']['exercise_frequency'],\n",
    "        x[x['diet_quality']== 'Poor']['exercise_frequency'],\n",
    "        x[x['diet_quality']== 'Good']['exercise_frequency'],\n",
    "    )\n",
    ")\n",
    "\n",
    "print(internetFrequencyAnova)"
   ]
  },
  {
   "cell_type": "markdown",
   "metadata": {},
   "source": [
    "### So what we did is: We groupped the internet_quality and then in the internet quality in each of the quality we checked the exercise frequency influenced by the diet_quality! So it is like in every internet_quality , and in every diet_quality of the internet_quality check the exercise frequency ! If the mean of the exercise frequency are same or not ?\n",
    "### In other words, we're asking:\n",
    "### \"Does the mean exercise frequency differ across diet quality groups, depending on the level of internet quality?\""
   ]
  },
  {
   "cell_type": "markdown",
   "metadata": {},
   "source": [
    "### **It is like asking in certain internet level is there impact of the diet quality in the exercise frequency ?**"
   ]
  },
  {
   "cell_type": "markdown",
   "metadata": {},
   "source": [
    "---"
   ]
  },
  {
   "cell_type": "markdown",
   "metadata": {},
   "source": [
    "### Covariate \n",
    "### Covariate is not the main treatment but still might affect the whole outcome \n",
    "### For example if we are checking the diet quality and the exercise frequency then the age is the covariate because age can put the effect in the diet more older more strict diet "
   ]
  },
  {
   "cell_type": "markdown",
   "metadata": {},
   "source": [
    "### Confounder \n",
    "### Confounder is the variable that influences the both the treatment and the outcome, and creates the false relationship between them. \n",
    "### For example: If you want to study if icecream causes drowning or not ,but,  it might seem it has no relation, the confounder temperature is the real deal where people tend to swim more when the weather is hot and also tend to eat more icecreams "
   ]
  },
  {
   "cell_type": "markdown",
   "metadata": {},
   "source": [
    "---"
   ]
  },
  {
   "cell_type": "markdown",
   "metadata": {},
   "source": [
    "### Independent Ttest \n",
    "### Does student with part time job and without part time job have different test scores ? \n",
    "### Columns -> part_time_job vs exam_score\n",
    "### Test used -> Independent t-test (Because only two groups)"
   ]
  },
  {
   "cell_type": "code",
   "execution_count": 11,
   "metadata": {},
   "outputs": [
    {
     "name": "stdout",
     "output_type": "stream",
     "text": [
      "0.4006113244264293\n"
     ]
    }
   ],
   "source": [
    "from scipy.stats import ttest_ind\n",
    "genderStudy = data[['part_time_job','exam_score']]\n",
    "partTimeYes = data[data['part_time_job'] == 'Yes']['exam_score']\n",
    "partTimeNo = data[data['part_time_job'] == 'No']['exam_score']\n",
    "t_stat, p_value = ttest_ind(partTimeYes, partTimeNo)\n",
    "print(p_value)\n",
    "\n"
   ]
  },
  {
   "cell_type": "markdown",
   "metadata": {},
   "source": [
    "---"
   ]
  },
  {
   "cell_type": "markdown",
   "metadata": {},
   "source": [
    "### ANVOA Test \n",
    "### Does diet quality affect in the exercise frequency \n",
    "### Columns -> diet_quality vs exercise_frequency \n",
    "### Test used -> f_oneway anova test \n"
   ]
  },
  {
   "cell_type": "code",
   "execution_count": 12,
   "metadata": {},
   "outputs": [
    {
     "name": "stdout",
     "output_type": "stream",
     "text": [
      "0.442902689963265\n"
     ]
    }
   ],
   "source": [
    "dietandexercise = data[['diet_quality','exercise_frequency']]\n",
    "diet_levels = dietandexercise['diet_quality'].dropna().unique()\n",
    "\n",
    "groups = [dietandexercise[dietandexercise['diet_quality'] == level]['exercise_frequency'] for level in diet_levels]\n",
    "f_stat, p_val = f_oneway(*groups)\n",
    "print(p_val)\n",
    "\n",
    "\n",
    "# There is no statistically significant evidence that diet quality affects exercise frequency."
   ]
  },
  {
   "cell_type": "markdown",
   "metadata": {},
   "source": [
    "---\n"
   ]
  },
  {
   "cell_type": "markdown",
   "metadata": {},
   "source": [
    "### Since we have figured out that the mean between the diet_quality and their respective exercise frequency is not same! Let's figure out exactly which groups are not same \n",
    "### Test used: pairwise_tukeyhsd (from statsmodels.stats.multicomp import pairwise_tukeyhsd)\n",
    "### Used to see which groups are not performing or which group has uneven means "
   ]
  },
  {
   "cell_type": "code",
   "execution_count": 19,
   "metadata": {},
   "outputs": [
    {
     "name": "stdout",
     "output_type": "stream",
     "text": [
      "Multiple Comparison of Means - Tukey HSD, FWER=0.05\n",
      "===================================================\n",
      "group1 group2 meandiff p-adj   lower  upper  reject\n",
      "---------------------------------------------------\n",
      "  Fair   Good   0.1562 0.5159 -0.1778 0.4902  False\n",
      "  Fair   Poor   0.1801 0.5685  -0.237 0.5972  False\n",
      "  Good   Poor   0.0239 0.9905 -0.4027 0.4506  False\n",
      "---------------------------------------------------\n"
     ]
    }
   ],
   "source": [
    "from statsmodels.stats.multicomp import pairwise_tukeyhsd\n",
    "tukey_results = pairwise_tukeyhsd(\n",
    "    data['exercise_frequency'],\n",
    "    data['diet_quality'],\n",
    "    alpha = 0.05\n",
    ")\n",
    "print(tukey_results)"
   ]
  },
  {
   "cell_type": "markdown",
   "metadata": {},
   "source": [
    "### Since all of the value of the group in reject column are False, we can conclude that even there is difference in the mean, there is not any statistically difference is any of the group's means"
   ]
  },
  {
   "cell_type": "markdown",
   "metadata": {},
   "source": [
    "---\n"
   ]
  },
  {
   "cell_type": "markdown",
   "metadata": {},
   "source": [
    "### Chi2_contigency test \n",
    "### Is there relationship between gender and part_time_job\n",
    "### Used method chi2_contigency \n"
   ]
  },
  {
   "cell_type": "code",
   "execution_count": 13,
   "metadata": {},
   "outputs": [
    {
     "name": "stdout",
     "output_type": "stream",
     "text": [
      "0.5153081349950721\n"
     ]
    }
   ],
   "source": [
    "from scipy.stats import chi2_contingency\n",
    "genderpart = pd.crosstab(data['gender'],data['part_time_job'])\n",
    "stats,pValue,dof, exp = chi2_contingency(genderpart)\n",
    "print(pValue)\n",
    "\n",
    "\n",
    "##p > 0.05 The values are likely independent !"
   ]
  },
  {
   "cell_type": "markdown",
   "metadata": {},
   "source": [
    "---"
   ]
  },
  {
   "cell_type": "markdown",
   "metadata": {},
   "source": [
    "### P-Values, Alpha and Erros "
   ]
  },
  {
   "cell_type": "markdown",
   "metadata": {},
   "source": [
    "### P-Values are the probability of observing our data if the null hypothesis were true \n",
    "### Alpha is the threshold or the significane, usually pValue <= alpha\n"
   ]
  },
  {
   "cell_type": "markdown",
   "metadata": {},
   "source": [
    "---"
   ]
  },
  {
   "cell_type": "markdown",
   "metadata": {},
   "source": [
    "### Type I Error and Type II Error \n",
    "\n",
    "### When you reject the hypothesis stating there is difference or p > 0.05 but in reality there is not any difference, This type of error are called (Type I errors) (False Positive)\n",
    "### When you think it is right but in reality it is wrong, then this type of errors are called type II erros. (False Negative)"
   ]
  },
  {
   "cell_type": "markdown",
   "metadata": {},
   "source": [
    "---"
   ]
  }
 ],
 "metadata": {
  "kernelspec": {
   "display_name": "Python 3",
   "language": "python",
   "name": "python3"
  },
  "language_info": {
   "codemirror_mode": {
    "name": "ipython",
    "version": 3
   },
   "file_extension": ".py",
   "mimetype": "text/x-python",
   "name": "python",
   "nbconvert_exporter": "python",
   "pygments_lexer": "ipython3",
   "version": "3.13.0"
  }
 },
 "nbformat": 4,
 "nbformat_minor": 2
}
